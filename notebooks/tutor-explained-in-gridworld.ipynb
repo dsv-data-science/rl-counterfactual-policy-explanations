{
 "cells": [
  {
   "cell_type": "code",
   "execution_count": 53,
   "id": "75842c69",
   "metadata": {},
   "outputs": [],
   "source": [
    "import json\n",
    "import os\n",
    "import os.path\n",
    "import pathlib\n",
    "from typing import Any, Sequence, Tuple, Mapping"
   ]
  },
  {
   "cell_type": "code",
   "execution_count": 70,
   "id": "99f1d2d9-1549-4735-9490-58bb951491e7",
   "metadata": {},
   "outputs": [],
   "source": [
    "from PIL import Image, ImageDraw, ImageFont\n",
    "import pandas as pd\n",
    "import numpy as np\n",
    "from rlplg.environments.gridworld import env, utils, constants\n",
    "import text_to_image\n",
    "\n",
    "import seaborn as sns\n",
    "import matplotlib as mpl\n",
    "from matplotlib import pyplot as plt"
   ]
  },
  {
   "cell_type": "code",
   "execution_count": 3,
   "id": "1e04d185-5ffb-44ae-b2e0-7767ac220f10",
   "metadata": {},
   "outputs": [],
   "source": [
    "mpl.rcParams['figure.dpi'] = 100\n",
    "mpl.rcParams['font.size'] = 12"
   ]
  },
  {
   "cell_type": "markdown",
   "id": "b53133f9-dfa1-4b72-b860-522aa7026aef",
   "metadata": {},
   "source": [
    "### Grid World Grids"
   ]
  },
  {
   "cell_type": "code",
   "execution_count": 4,
   "id": "3f825c98-a115-4238-90aa-84f13e042748",
   "metadata": {},
   "outputs": [],
   "source": [
    "GRID_MAP_BASE_PATH = os.path.join(pathlib.Path.home(), \"code\", \"rlplg\", \"assets\", \"env\", \"gridworld_cliff\", \"maps\")"
   ]
  },
  {
   "cell_type": "code",
   "execution_count": 5,
   "id": "8b7e05f9-3f2e-4fc1-81db-29530f213b49",
   "metadata": {},
   "outputs": [],
   "source": [
    "def grid_path(path: str, name: str):\n",
    "    return os.path.join(path, f\"{name}.txt\")\n",
    "\n",
    "\n",
    "def load_grid(path: str, name: str):\n",
    "    with open(grid_path(path, name)) as readable:\n",
    "        return [list(line.strip()) for line in readable]\n",
    "    \n",
    "    \n",
    "def grid_as_string(grid: Sequence[Sequence[str]]):\n",
    "    rows = []\n",
    "    for row in grid:\n",
    "        rows.append(\"\".join(row))\n",
    "    return \"\\n\".join(rows)"
   ]
  },
  {
   "cell_type": "code",
   "execution_count": 6,
   "id": "9ebcd238-f478-4435-8f6c-d8af0bb62bcb",
   "metadata": {},
   "outputs": [
    {
     "data": {
      "text/plain": [
       "[['o', 'o', 'o', 'x', 'o', 'o', 'o', 'o'],\n",
       " ['s', 'o', 'o', 'o', 'o', 'o', 'o', 'g']]"
      ]
     },
     "execution_count": 6,
     "metadata": {},
     "output_type": "execute_result"
    }
   ],
   "source": [
    "load_grid(GRID_MAP_BASE_PATH, \"gridworld_cliff_02\")"
   ]
  },
  {
   "cell_type": "code",
   "execution_count": 7,
   "id": "a41904a8-8466-41f4-9995-2299154e1a45",
   "metadata": {},
   "outputs": [
    {
     "name": "stdout",
     "output_type": "stream",
     "text": [
      "oooxoooo\n",
      "soooooog\n"
     ]
    }
   ],
   "source": [
    "print(grid_as_string(load_grid(GRID_MAP_BASE_PATH, \"gridworld_cliff_02\")))"
   ]
  },
  {
   "cell_type": "code",
   "execution_count": 8,
   "id": "6548b8d0-8c13-4af6-88ff-7811a14b128e",
   "metadata": {},
   "outputs": [],
   "source": [
    "def position_state_mapping(grid_name: str):\n",
    "    size, cliffs, _, _ = utils.parse_grid(path=grid_path(GRID_MAP_BASE_PATH, grid_name))\n",
    "    return env.states_mapping(size=size, cliffs=cliffs)    "
   ]
  },
  {
   "cell_type": "code",
   "execution_count": 9,
   "id": "77688fb6-d224-4ade-a57a-87fa9290f579",
   "metadata": {},
   "outputs": [
    {
     "data": {
      "text/plain": [
       "{(0, 0): 0,\n",
       " (0, 1): 1,\n",
       " (0, 2): 2,\n",
       " (0, 4): 3,\n",
       " (0, 5): 4,\n",
       " (0, 6): 5,\n",
       " (0, 7): 6,\n",
       " (1, 0): 7,\n",
       " (1, 1): 8,\n",
       " (1, 2): 9,\n",
       " (1, 3): 10,\n",
       " (1, 4): 11,\n",
       " (1, 5): 12,\n",
       " (1, 6): 13,\n",
       " (1, 7): 14}"
      ]
     },
     "execution_count": 9,
     "metadata": {},
     "output_type": "execute_result"
    }
   ],
   "source": [
    "position_state_mapping(\"gridworld_cliff_02\")"
   ]
  },
  {
   "cell_type": "markdown",
   "id": "b6fd69b9-1900-442f-a4ea-d146a4ec3bc4",
   "metadata": {},
   "source": [
    "### Counterfactual Run Results"
   ]
  },
  {
   "cell_type": "code",
   "execution_count": 10,
   "id": "234d4bc4-0b7f-4042-bf48-4b7bb9c1b174",
   "metadata": {},
   "outputs": [],
   "source": [
    "BASE_RESULTS_PATH = os.path.join(pathlib.Path.home(), \"fs/experiments/explain-rl/gridworld\")"
   ]
  },
  {
   "cell_type": "code",
   "execution_count": 11,
   "id": "6cb2b26d-4588-43ea-86bb-40540979f52e",
   "metadata": {},
   "outputs": [],
   "source": [
    "def create_state_path(base_path:str):\n",
    "    def stats_path(grid_name: str, blackbox: str, control_fn: str, reward_fn: str, intervention_penalty: str, timestamp: int):\n",
    "        \"\"\"\n",
    "        e.g. ../blackbox_dyna-prog/control-fn_q-learning/reward-fn_contrary-penalty-fn/1655279109/blackbox_counterfactual_stats.json\n",
    "        \"\"\"\n",
    "        return os.path.join(base_path, grid_name, f\"blackbox_{blackbox}\", f\"control-fn_{control_fn}\", f\"reward-fn_{reward_fn}\", f\"intervention-penalty_{intervention_penalty}\", str(timestamp), \"blackbox_counterfactual_stats.json\")\n",
    "    return stats_path"
   ]
  },
  {
   "cell_type": "code",
   "execution_count": 12,
   "id": "7286d597-ca9e-4685-997d-75c7bfced707",
   "metadata": {},
   "outputs": [],
   "source": [
    "def load_blackbox_counterfactual_run_stats(path: str):\n",
    "    with open(path, \"r\") as readable:\n",
    "        data = {}\n",
    "        for line in readable:\n",
    "            record = json.loads(line)\n",
    "            key = record[\"state\"]\n",
    "            del record[\"state\"]\n",
    "            data[key] = record[\"stats\"]\n",
    "        return data"
   ]
  },
  {
   "cell_type": "code",
   "execution_count": 13,
   "id": "869f196d-b9fc-4e9a-9125-a3af80719d2d",
   "metadata": {},
   "outputs": [
    {
     "data": {
      "text/plain": [
       "{0: {'blackbox_policy_action_stats': {'1': 1.0},\n",
       "  'counterfactual_policy_action_stats': {'1': 1.0},\n",
       "  'counterfactual_policy_intervention_prob': 0.0},\n",
       " 1: {'blackbox_policy_action_stats': {'1': 1.0},\n",
       "  'counterfactual_policy_action_stats': {'1': 1.0},\n",
       "  'counterfactual_policy_intervention_prob': 0.0},\n",
       " 2: {'blackbox_policy_action_stats': {'1': 1.0},\n",
       "  'counterfactual_policy_action_stats': {'1': 1.0},\n",
       "  'counterfactual_policy_intervention_prob': 0.0},\n",
       " 3: {'blackbox_policy_action_stats': {'1': 1.0},\n",
       "  'counterfactual_policy_action_stats': {'1': 1.0},\n",
       "  'counterfactual_policy_intervention_prob': 0.0},\n",
       " 4: {'blackbox_policy_action_stats': {'1': 1.0},\n",
       "  'counterfactual_policy_action_stats': {'1': 1.0},\n",
       "  'counterfactual_policy_intervention_prob': 0.0},\n",
       " 5: {'blackbox_policy_action_stats': {'1': 1.0},\n",
       "  'counterfactual_policy_action_stats': {'1': 1.0},\n",
       "  'counterfactual_policy_intervention_prob': 0.0},\n",
       " 6: {'blackbox_policy_action_stats': {'1': 1.0},\n",
       "  'counterfactual_policy_action_stats': {'1': 1.0},\n",
       "  'counterfactual_policy_intervention_prob': 0.0},\n",
       " 7: {'blackbox_policy_action_stats': {'3': 1.0},\n",
       "  'counterfactual_policy_action_stats': {'3': 1.0},\n",
       "  'counterfactual_policy_intervention_prob': 0.0},\n",
       " 8: {'blackbox_policy_action_stats': {'1': 1.0},\n",
       "  'counterfactual_policy_action_stats': {'1': 0.0, '2': 1.0},\n",
       "  'counterfactual_policy_intervention_prob': 1.0},\n",
       " 9: {'blackbox_policy_action_stats': {'1': 1.0},\n",
       "  'counterfactual_policy_action_stats': {'1': 1.0},\n",
       "  'counterfactual_policy_intervention_prob': 0.0},\n",
       " 10: {'blackbox_policy_action_stats': {'1': 1.0},\n",
       "  'counterfactual_policy_action_stats': {'1': 1.0},\n",
       "  'counterfactual_policy_intervention_prob': 0.0},\n",
       " 11: {'blackbox_policy_action_stats': {'1': 1.0},\n",
       "  'counterfactual_policy_action_stats': {'1': 1.0},\n",
       "  'counterfactual_policy_intervention_prob': 0.0},\n",
       " 12: {'blackbox_policy_action_stats': {'1': 1.0},\n",
       "  'counterfactual_policy_action_stats': {'1': 1.0},\n",
       "  'counterfactual_policy_intervention_prob': 0.0},\n",
       " 13: {'blackbox_policy_action_stats': {'1': 1.0},\n",
       "  'counterfactual_policy_action_stats': {'1': 1.0},\n",
       "  'counterfactual_policy_intervention_prob': 0.0},\n",
       " 14: {'blackbox_policy_action_stats': {'1': 1.0},\n",
       "  'counterfactual_policy_action_stats': {'1': 1.0},\n",
       "  'counterfactual_policy_intervention_prob': 0.0},\n",
       " 15: {'blackbox_policy_action_stats': {'3': 1.0},\n",
       "  'counterfactual_policy_action_stats': {'3': 1.0},\n",
       "  'counterfactual_policy_intervention_prob': 0.0},\n",
       " 16: {'blackbox_policy_action_stats': {'2': 1.0},\n",
       "  'counterfactual_policy_action_stats': {'2': 1.0},\n",
       "  'counterfactual_policy_intervention_prob': 0.0}}"
      ]
     },
     "execution_count": 13,
     "metadata": {},
     "output_type": "execute_result"
    }
   ],
   "source": [
    "stats_path = create_state_path(BASE_RESULTS_PATH)\n",
    "load_blackbox_counterfactual_run_stats(stats_path(\"gridworld_cliff_05\", blackbox=\"q-learning\", control_fn=\"q-learning\", reward_fn=\"counterfactual-reward-fn\", intervention_penalty=\"off\", timestamp=1655297189))"
   ]
  },
  {
   "cell_type": "code",
   "execution_count": 81,
   "id": "3cb5228a-25b0-46ab-8844-16e41ddf0f01",
   "metadata": {},
   "outputs": [],
   "source": [
    "def visualise_stats(grid_name: str, stats_path: str):\n",
    "    grid = load_grid(GRID_MAP_BASE_PATH, grid_name)\n",
    "    pos_state = position_state_mapping(grid_name)\n",
    "    state_pos = {value: key for key, value in pos_state.items()}\n",
    "    stats = load_blackbox_counterfactual_run_stats(stats_path)\n",
    "    base_grid = np.array(grid)\n",
    "    blackbox_grid = np.copy(base_grid)\n",
    "    counterfactual_grid = np.copy(base_grid)\n",
    "    intervention_prob = np.zeros_like(base_grid, dtype=np.float32)\n",
    "        \n",
    "    print(f\"**Grid**: \\n{grid_as_string(grid)}\")\n",
    "    for state, info in stats.items():\n",
    "        coord = state_pos[state]\n",
    "        intervention_prob[coord] = info[\"counterfactual_policy_intervention_prob\"]\n",
    "        # if there is a record, there was an intervention\n",
    "        blackbox_top_action = policy_greedy_action(info[\"blackbox_policy_action_stats\"])\n",
    "        counterfactual_top_action = policy_greedy_action(info[\"counterfactual_policy_action_stats\"])\n",
    "        blackbox_grid[coord] = constants.MOVE_SYMBOLS[blackbox_top_action]\n",
    "        if intervention_prob[coord] > 0:\n",
    "            counterfactual_grid[coord] = constants.MOVE_SYMBOLS[counterfactual_top_action]\n",
    "        # print(\"blackbox-stats\", state, coord, info[\"blackbox_policy_action_stats\"])\n",
    "        # print(\"counterfactual-stats\", state, coord, info[\"counterfactual_policy_action_stats\"], f\"p({intervention_prob[coord]})\")\n",
    "    \n",
    "    \n",
    "    print(f\"**Blackbox Action**: \\n{blackbox_grid}\")\n",
    "    print(f\"**Counterfactual Overrides**: \\n{counterfactual_grid}\")\n",
    "    fig, ax = plt.subplots()\n",
    "    sns.heatmap(intervention_prob, annot=True, fmt=\".1f\", ax=ax)\n",
    "    #add overall title to replot\n",
    "    fig.suptitle(\"Intervention Probability\")\n",
    "    return ax\n",
    "\n",
    "\n",
    "def policy_greedy_action(stats: Mapping[str, float]):\n",
    "    actions = sorted([int(action) for action in stats.keys()])\n",
    "    probs = [stats[str(key)] for key in actions]\n",
    "    top_action = np.argmax(probs)\n",
    "    return actions[top_action]"
   ]
  },
  {
   "cell_type": "code",
   "execution_count": 15,
   "id": "bb35ebbf-7a68-4f3f-937a-d604fe540c5c",
   "metadata": {},
   "outputs": [],
   "source": [
    "def export_figure(ax, name: str, format: str = \"pdf\", dpi=300, transparent: bool = True):\n",
    "    # to be able to save, we must plot\n",
    "    _ = ax.plot()\n",
    "    base_dir = os.path.dirname(name)\n",
    "    if not os.path.exists(base_dir):\n",
    "        os.makedirs(base_dir)\n",
    "    plt.savefig(f\"{name}.{format}\", dpi=dpi, format=format, transparent=transparent)"
   ]
  },
  {
   "cell_type": "code",
   "execution_count": 16,
   "id": "4c337040-a0ef-4565-b2ee-875fdd7b2c78",
   "metadata": {},
   "outputs": [],
   "source": [
    "TIMESTAMP = 1655299859"
   ]
  },
  {
   "cell_type": "markdown",
   "id": "7dc490c6-7e3c-454b-9e88-6b3112723563",
   "metadata": {},
   "source": [
    "## Same Reward Fn"
   ]
  },
  {
   "cell_type": "markdown",
   "id": "bc027b46-9b82-4abc-9827-fe71f434be72",
   "metadata": {
    "tags": []
   },
   "source": [
    "## Gridworld 3"
   ]
  },
  {
   "cell_type": "markdown",
   "id": "240328be-1a81-4d20-8c6c-c06aa19d08e8",
   "metadata": {},
   "source": [
    "**No intervention penalty**"
   ]
  },
  {
   "cell_type": "code",
   "execution_count": 83,
   "id": "a22a4dd9-0e1f-40f5-a232-e33ccb85bf16",
   "metadata": {},
   "outputs": [
    {
     "name": "stdout",
     "output_type": "stream",
     "text": [
      "**Grid**: \n",
      "|o|o|o|o|o|o|o|o|\n",
      "|o|o|x|o|o|o|o|g|\n",
      "|s|o|o|o|o|x|o|o|\n",
      "**Blackbox Action**: \n",
      "[['o' 'o' 'o' 'o' 'o' 'o' 'o' 'o']\n",
      " ['o' 'o' 'x' 'o' '→' '→' '→' 'g']\n",
      " ['→' '→' '→' '→' '↑' 'x' 'o' 'o']]\n",
      "**Counterfactual Overrides**: \n",
      "[['o' 'o' 'o' 'o' 'o' 'o' 'o' 'o']\n",
      " ['o' 'o' 'x' 'o' 'o' 'o' 'o' 'g']\n",
      " ['s' 'o' 'o' 'o' 'o' 'x' 'o' 'o']]\n"
     ]
    },
    {
     "data": {
      "image/png": "[encoded data removed]",
      "text/plain": [
       "<Figure size 432x288 with 2 Axes>"
      ]
     },
     "metadata": {
      "needs_background": "light"
     },
     "output_type": "display_data"
    }
   ],
   "source": [
    "ax = visualise_stats(\"gridworld_cliff_03\", stats_path(\"gridworld_cliff_03\", blackbox=\"q-learning\", control_fn=\"q-learning\", reward_fn=\"same-fn\", intervention_penalty=\"off\", timestamp=TIMESTAMP))\n",
    "export_figure(ax, name=\"figures/same-fn_gridworld-cliff-03_intervention-penalty-off\")"
   ]
  },
  {
   "cell_type": "markdown",
   "id": "ff13c7d6-80d1-4d52-9d38-ef49c59893f3",
   "metadata": {},
   "source": [
    "**With intervention penalty**"
   ]
  },
  {
   "cell_type": "code",
   "execution_count": 18,
   "id": "3b0d2ccd-3e61-4e72-a242-92a4215f1a49",
   "metadata": {},
   "outputs": [
    {
     "name": "stdout",
     "output_type": "stream",
     "text": [
      "**Grid**: \n",
      "oooooooo\n",
      "ooxoooog\n",
      "sooooxoo\n",
      "**Blackbox Action**: \n",
      "[['o' 'o' 'o' 'o' 'o' 'o' 'o' 'o']\n",
      " ['o' 'o' 'x' 'o' '→' '→' '→' 'g']\n",
      " ['→' '→' '→' '→' '↑' 'x' 'o' 'o']]\n",
      "**Counterfactual Overrides**: \n",
      "[['o' 'o' 'o' 'o' 'o' 'o' 'o' 'o']\n",
      " ['o' 'o' 'x' 'o' 'o' 'o' 'o' 'g']\n",
      " ['s' 'o' 'o' 'o' 'o' 'x' 'o' 'o']]\n"
     ]
    },
    {
     "data": {
      "image/png": "[encoded data removed]",
      "text/plain": [
       "<Figure size 432x288 with 2 Axes>"
      ]
     },
     "metadata": {
      "needs_background": "light"
     },
     "output_type": "display_data"
    }
   ],
   "source": [
    "ax = visualise_stats(\"gridworld_cliff_03\", stats_path(\"gridworld_cliff_03\", blackbox=\"q-learning\", control_fn=\"q-learning\", reward_fn=\"same-fn\", intervention_penalty=\"on\", timestamp=TIMESTAMP))\n",
    "export_figure(ax, name=\"figures/same-fn_gridworld-cliff-03_intervention-penalty-on\")"
   ]
  },
  {
   "cell_type": "markdown",
   "id": "b8af157e-e01f-4deb-8839-c0d86db91b61",
   "metadata": {
    "tags": []
   },
   "source": [
    "## Gridworld 5"
   ]
  },
  {
   "cell_type": "markdown",
   "id": "441d9bd7-a2c2-437a-af76-ac7dd877fa8f",
   "metadata": {},
   "source": [
    "**No intervention penalty**"
   ]
  },
  {
   "cell_type": "code",
   "execution_count": 19,
   "id": "2f78544b-f87c-4f5d-abae-2dda712080c3",
   "metadata": {},
   "outputs": [
    {
     "name": "stdout",
     "output_type": "stream",
     "text": [
      "**Grid**: \n",
      "oooooooo\n",
      "oooooooo\n",
      "sxxxxxxg\n",
      "**Blackbox Action**: \n",
      "[['o' 'o' 'o' 'o' 'o' 'o' 'o' 'o']\n",
      " ['→' '→' '→' '→' '→' '→' '→' '↓']\n",
      " ['↑' 'x' 'x' 'x' 'x' 'x' 'x' 'g']]\n",
      "**Counterfactual Overrides**: \n",
      "[['o' 'o' 'o' 'o' 'o' 'o' 'o' 'o']\n",
      " ['o' 'o' 'o' 'o' 'o' 'o' 'o' 'o']\n",
      " ['s' 'x' 'x' 'x' 'x' 'x' 'x' 'g']]\n"
     ]
    },
    {
     "data": {
      "image/png": "[encoded data removed]",
      "text/plain": [
       "<Figure size 432x288 with 2 Axes>"
      ]
     },
     "metadata": {
      "needs_background": "light"
     },
     "output_type": "display_data"
    }
   ],
   "source": [
    "ax = visualise_stats(\"gridworld_cliff_05\", stats_path(\"gridworld_cliff_05\", blackbox=\"q-learning\", control_fn=\"q-learning\", reward_fn=\"same-fn\", intervention_penalty=\"off\", timestamp=TIMESTAMP))\n",
    "export_figure(ax, name=\"figures/same-fn_gridworld-cliff-05_intervention-penalty-off\")"
   ]
  },
  {
   "cell_type": "markdown",
   "id": "943bdd8c-aaaf-4fa5-93a4-928e9facabc3",
   "metadata": {},
   "source": [
    "**With intervention penalty**"
   ]
  },
  {
   "cell_type": "code",
   "execution_count": 20,
   "id": "ecf5ff31-d026-44be-adce-6eca487a0698",
   "metadata": {},
   "outputs": [
    {
     "name": "stdout",
     "output_type": "stream",
     "text": [
      "**Grid**: \n",
      "oooooooo\n",
      "oooooooo\n",
      "sxxxxxxg\n",
      "**Blackbox Action**: \n",
      "[['o' 'o' 'o' 'o' 'o' 'o' 'o' 'o']\n",
      " ['→' '→' '→' '→' '→' '→' '→' '↓']\n",
      " ['↑' 'x' 'x' 'x' 'x' 'x' 'x' 'g']]\n",
      "**Counterfactual Overrides**: \n",
      "[['o' 'o' 'o' 'o' 'o' 'o' 'o' 'o']\n",
      " ['o' 'o' 'o' 'o' 'o' 'o' 'o' 'o']\n",
      " ['s' 'x' 'x' 'x' 'x' 'x' 'x' 'g']]\n"
     ]
    },
    {
     "data": {
      "image/png": "[encoded data removed]",
      "text/plain": [
       "<Figure size 432x288 with 2 Axes>"
      ]
     },
     "metadata": {
      "needs_background": "light"
     },
     "output_type": "display_data"
    }
   ],
   "source": [
    "ax = visualise_stats(\"gridworld_cliff_05\", stats_path(\"gridworld_cliff_05\", blackbox=\"q-learning\", control_fn=\"q-learning\", reward_fn=\"same-fn\", intervention_penalty=\"on\", timestamp=TIMESTAMP))\n",
    "export_figure(ax, name=\"figures/same-fn_gridworld-cliff-05_intervention-penalty-on\")"
   ]
  },
  {
   "cell_type": "markdown",
   "id": "334dd7a6-b397-4d38-b538-1c7d4147ee4f",
   "metadata": {
    "tags": []
   },
   "source": [
    "## Gridworld 7"
   ]
  },
  {
   "cell_type": "markdown",
   "id": "6f4bb641-e129-42d4-a4a3-82183b9752e3",
   "metadata": {},
   "source": [
    "**No intervention penalty**"
   ]
  },
  {
   "cell_type": "code",
   "execution_count": 21,
   "id": "6c7df5ad-fcf6-4148-8722-5693f64865d1",
   "metadata": {},
   "outputs": [
    {
     "name": "stdout",
     "output_type": "stream",
     "text": [
      "**Grid**: \n",
      "ooxooxooooo\n",
      "xoooooooooo\n",
      "oooooooooox\n",
      "ooooooooooo\n",
      "oooooxooooo\n",
      "soxooooooog\n",
      "**Blackbox Action**: \n",
      "[['o' 'o' 'x' 'o' 'o' 'x' 'o' 'o' 'o' 'o' 'o']\n",
      " ['x' 'o' 'o' 'o' 'o' 'o' 'o' 'o' 'o' 'o' 'o']\n",
      " ['o' 'o' 'o' 'o' 'o' 'o' 'o' 'o' 'o' 'o' 'x']\n",
      " ['o' 'o' 'o' 'o' 'o' 'o' 'o' 'o' 'o' 'o' 'o']\n",
      " ['o' '→' '→' '→' '↓' 'x' 'o' 'o' 'o' 'o' 'o']\n",
      " ['→' '↑' 'x' 'o' '→' '→' '→' '→' '→' '→' 'g']]\n",
      "**Counterfactual Overrides**: \n",
      "[['o' 'o' 'x' 'o' 'o' 'x' 'o' 'o' 'o' 'o' 'o']\n",
      " ['x' 'o' 'o' 'o' 'o' 'o' 'o' 'o' 'o' 'o' 'o']\n",
      " ['o' 'o' 'o' 'o' 'o' 'o' 'o' 'o' 'o' 'o' 'x']\n",
      " ['o' 'o' 'o' 'o' 'o' 'o' 'o' 'o' 'o' 'o' 'o']\n",
      " ['o' 'o' 'o' 'o' 'o' 'x' 'o' 'o' 'o' 'o' 'o']\n",
      " ['s' 'o' 'x' 'o' 'o' 'o' 'o' 'o' 'o' 'o' 'g']]\n"
     ]
    },
    {
     "data": {
      "image/png": "[encoded data removed]",
      "text/plain": [
       "<Figure size 432x288 with 2 Axes>"
      ]
     },
     "metadata": {
      "needs_background": "light"
     },
     "output_type": "display_data"
    }
   ],
   "source": [
    "ax = visualise_stats(\"gridworld_cliff_07\", stats_path(\"gridworld_cliff_07\", blackbox=\"q-learning\", control_fn=\"q-learning\", reward_fn=\"same-fn\", intervention_penalty=\"off\", timestamp=TIMESTAMP))\n",
    "export_figure(ax, name=\"figures/same-fn_gridworld-cliff-07_intervention-penalty-off\")"
   ]
  },
  {
   "cell_type": "markdown",
   "id": "5303e738-9f59-42ac-964a-2100064c8dd5",
   "metadata": {},
   "source": [
    "**With intervention penalty**"
   ]
  },
  {
   "cell_type": "code",
   "execution_count": 22,
   "id": "37c0278e-19f6-454d-ab76-9a9cb64a3718",
   "metadata": {},
   "outputs": [
    {
     "name": "stdout",
     "output_type": "stream",
     "text": [
      "**Grid**: \n",
      "ooxooxooooo\n",
      "xoooooooooo\n",
      "oooooooooox\n",
      "ooooooooooo\n",
      "oooooxooooo\n",
      "soxooooooog\n",
      "**Blackbox Action**: \n",
      "[['o' 'o' 'x' 'o' 'o' 'x' 'o' 'o' 'o' 'o' 'o']\n",
      " ['x' 'o' 'o' 'o' 'o' 'o' 'o' 'o' 'o' 'o' 'o']\n",
      " ['o' 'o' 'o' 'o' 'o' 'o' 'o' 'o' 'o' 'o' 'x']\n",
      " ['o' 'o' 'o' 'o' 'o' 'o' 'o' 'o' 'o' 'o' 'o']\n",
      " ['o' '→' '→' '→' '↓' 'x' 'o' 'o' 'o' 'o' 'o']\n",
      " ['→' '↑' 'x' 'o' '→' '→' '→' '→' '→' '→' 'g']]\n",
      "**Counterfactual Overrides**: \n",
      "[['o' 'o' 'x' 'o' 'o' 'x' 'o' 'o' 'o' 'o' 'o']\n",
      " ['x' 'o' 'o' 'o' 'o' 'o' 'o' 'o' 'o' 'o' 'o']\n",
      " ['o' 'o' 'o' 'o' 'o' 'o' 'o' 'o' 'o' 'o' 'x']\n",
      " ['o' 'o' 'o' 'o' 'o' 'o' 'o' 'o' 'o' 'o' 'o']\n",
      " ['o' 'o' 'o' 'o' 'o' 'x' 'o' 'o' 'o' 'o' 'o']\n",
      " ['s' 'o' 'x' 'o' 'o' 'o' 'o' 'o' 'o' 'o' 'g']]\n"
     ]
    },
    {
     "data": {
      "image/png": "[encoded data removed]",
      "text/plain": [
       "<Figure size 432x288 with 2 Axes>"
      ]
     },
     "metadata": {
      "needs_background": "light"
     },
     "output_type": "display_data"
    }
   ],
   "source": [
    "visualise_stats(\"gridworld_cliff_07\", stats_path(\"gridworld_cliff_07\", blackbox=\"q-learning\", control_fn=\"q-learning\", reward_fn=\"same-fn\", intervention_penalty=\"on\", timestamp=TIMESTAMP))\n",
    "export_figure(ax, name=\"figures/same-fn_gridworld-cliff-07_intervention-penalty-on\")"
   ]
  },
  {
   "cell_type": "markdown",
   "id": "67349d30-5ab6-4352-9259-bfcb5c4b583f",
   "metadata": {},
   "source": [
    "## Counterfactual Reward Fn: Penalises being close to the cliff"
   ]
  },
  {
   "cell_type": "markdown",
   "id": "848eb95d-07c4-4289-9bfa-33035f7dbdbb",
   "metadata": {
    "tags": []
   },
   "source": [
    "## Gridworld 3"
   ]
  },
  {
   "cell_type": "markdown",
   "id": "0bece09f-5f46-4241-a482-50a13b1ad838",
   "metadata": {},
   "source": [
    "**No intervention penalty**"
   ]
  },
  {
   "cell_type": "code",
   "execution_count": 23,
   "id": "cf5ec16e-5edc-4460-a050-e175d1001297",
   "metadata": {},
   "outputs": [
    {
     "name": "stdout",
     "output_type": "stream",
     "text": [
      "**Grid**: \n",
      "oooooooo\n",
      "ooxoooog\n",
      "sooooxoo\n",
      "**Blackbox Action**: \n",
      "[['o' 'o' 'o' '↓' '↓' '↓' '↓' '↓']\n",
      " ['o' 'o' 'x' '→' '→' '→' '→' 'g']\n",
      " ['→' '→' '→' '→' '↑' 'x' 'o' 'o']]\n",
      "**Counterfactual Overrides**: \n",
      "[['o' 'o' 'o' '→' '→' '→' '→' 'o']\n",
      " ['o' 'o' 'x' '↑' 'o' 'o' 'o' 'g']\n",
      " ['s' 'o' 'o' '↑' 'o' 'x' 'o' 'o']]\n"
     ]
    },
    {
     "data": {
      "image/png": "[encoded data removed]",
      "text/plain": [
       "<Figure size 432x288 with 2 Axes>"
      ]
     },
     "metadata": {
      "needs_background": "light"
     },
     "output_type": "display_data"
    }
   ],
   "source": [
    "ax = visualise_stats(\"gridworld_cliff_03\", stats_path(\"gridworld_cliff_03\", blackbox=\"q-learning\", control_fn=\"q-learning\", reward_fn=\"counterfactual-reward-fn\", intervention_penalty=\"off\", timestamp=TIMESTAMP))\n",
    "export_figure(ax, name=\"figures/counterfactual-reward-fn_gridworld-cliff-03_intervention-penalty-off\")"
   ]
  },
  {
   "cell_type": "markdown",
   "id": "924de496-108c-4faa-be23-d841c549d634",
   "metadata": {},
   "source": [
    "**With intervention penalty**"
   ]
  },
  {
   "cell_type": "code",
   "execution_count": 24,
   "id": "3e20b7e8-af92-4b92-ba84-a7e1d426038f",
   "metadata": {},
   "outputs": [
    {
     "name": "stdout",
     "output_type": "stream",
     "text": [
      "**Grid**: \n",
      "oooooooo\n",
      "ooxoooog\n",
      "sooooxoo\n",
      "**Blackbox Action**: \n",
      "[['o' 'o' 'o' 'o' 'o' 'o' 'o' 'o']\n",
      " ['o' 'o' 'x' 'o' '→' '→' '→' 'g']\n",
      " ['→' '→' '→' '→' '↑' 'x' 'o' 'o']]\n",
      "**Counterfactual Overrides**: \n",
      "[['o' 'o' 'o' 'o' 'o' 'o' 'o' 'o']\n",
      " ['o' 'o' 'x' 'o' 'o' 'o' 'o' 'g']\n",
      " ['s' 'o' 'o' 'o' 'o' 'x' 'o' 'o']]\n"
     ]
    },
    {
     "data": {
      "image/png": "[encoded data removed]",
      "text/plain": [
       "<Figure size 432x288 with 2 Axes>"
      ]
     },
     "metadata": {
      "needs_background": "light"
     },
     "output_type": "display_data"
    }
   ],
   "source": [
    "ax = visualise_stats(\"gridworld_cliff_03\", stats_path(\"gridworld_cliff_03\", blackbox=\"q-learning\", control_fn=\"q-learning\", reward_fn=\"counterfactual-reward-fn\", intervention_penalty=\"on\", timestamp=TIMESTAMP))\n",
    "export_figure(ax, name=\"figures/counterfactual-reward-fn_gridworld-cliff-03_intervention-penalty-on\")"
   ]
  },
  {
   "cell_type": "markdown",
   "id": "f7cdbede-62eb-4beb-8b10-df780bc52d71",
   "metadata": {
    "tags": []
   },
   "source": [
    "## Gridworld 5"
   ]
  },
  {
   "cell_type": "markdown",
   "id": "c78db209-e7ae-4e6d-bbb7-78d5ac7179a9",
   "metadata": {},
   "source": [
    "**No intervention penalty**"
   ]
  },
  {
   "cell_type": "code",
   "execution_count": 25,
   "id": "94b31ddd-7685-441c-8f6b-23402fa1ea7d",
   "metadata": {},
   "outputs": [
    {
     "name": "stdout",
     "output_type": "stream",
     "text": [
      "**Grid**: \n",
      "oooooooo\n",
      "oooooooo\n",
      "sxxxxxxg\n",
      "**Blackbox Action**: \n",
      "[['↓' '→' '→' '↓' '↓' '↓' '↓' '↓']\n",
      " ['→' '→' '→' '→' '→' '→' '→' '↓']\n",
      " ['↑' 'x' 'x' 'x' 'x' 'x' 'x' 'g']]\n",
      "**Counterfactual Overrides**: \n",
      "[['→' 'o' 'o' '→' '→' '→' '→' 'o']\n",
      " ['↑' '↑' 'o' '↑' 'o' 'o' 'o' 'o']\n",
      " ['s' 'x' 'x' 'x' 'x' 'x' 'x' 'g']]\n"
     ]
    },
    {
     "data": {
      "image/png": "[encoded data removed]",
      "text/plain": [
       "<Figure size 432x288 with 2 Axes>"
      ]
     },
     "metadata": {
      "needs_background": "light"
     },
     "output_type": "display_data"
    }
   ],
   "source": [
    "ax = visualise_stats(\"gridworld_cliff_05\", stats_path(\"gridworld_cliff_05\", blackbox=\"q-learning\", control_fn=\"q-learning\", reward_fn=\"counterfactual-reward-fn\", intervention_penalty=\"off\", timestamp=TIMESTAMP))\n",
    "export_figure(ax, name=\"figures/counterfactual-reward-fn_gridworld-cliff-05_intervention-penalty-off\")"
   ]
  },
  {
   "cell_type": "markdown",
   "id": "536f016a-3f73-49fb-aa51-5e418845c92d",
   "metadata": {},
   "source": [
    "**With intervention penalty**"
   ]
  },
  {
   "cell_type": "code",
   "execution_count": 26,
   "id": "cf334965-7cb0-42d0-abdd-976eb15c670b",
   "metadata": {},
   "outputs": [
    {
     "name": "stdout",
     "output_type": "stream",
     "text": [
      "**Grid**: \n",
      "oooooooo\n",
      "oooooooo\n",
      "sxxxxxxg\n",
      "**Blackbox Action**: \n",
      "[['o' 'o' 'o' 'o' 'o' 'o' 'o' 'o']\n",
      " ['→' '→' '→' '→' '→' '→' '→' '↓']\n",
      " ['↑' 'x' 'x' 'x' 'x' 'x' 'x' 'g']]\n",
      "**Counterfactual Overrides**: \n",
      "[['o' 'o' 'o' 'o' 'o' 'o' 'o' 'o']\n",
      " ['o' 'o' 'o' 'o' 'o' 'o' 'o' 'o']\n",
      " ['s' 'x' 'x' 'x' 'x' 'x' 'x' 'g']]\n"
     ]
    },
    {
     "data": {
      "image/png": "[encoded data removed]",
      "text/plain": [
       "<Figure size 432x288 with 2 Axes>"
      ]
     },
     "metadata": {
      "needs_background": "light"
     },
     "output_type": "display_data"
    }
   ],
   "source": [
    "ax = visualise_stats(\"gridworld_cliff_05\", stats_path(\"gridworld_cliff_05\", blackbox=\"q-learning\", control_fn=\"q-learning\", reward_fn=\"counterfactual-reward-fn\", intervention_penalty=\"on\", timestamp=TIMESTAMP))\n",
    "export_figure(ax, name=\"figures/counterfactual-reward-fn_gridworld-cliff-05_intervention-penalty-on\")"
   ]
  },
  {
   "cell_type": "markdown",
   "id": "d665c3e7-38a0-4692-9820-da46baec7299",
   "metadata": {
    "tags": []
   },
   "source": [
    "## Gridworld 7"
   ]
  },
  {
   "cell_type": "markdown",
   "id": "f4bc61d6-e450-432e-b5fb-cf3aca595771",
   "metadata": {},
   "source": [
    "**No intervention penalty**"
   ]
  },
  {
   "cell_type": "code",
   "execution_count": 27,
   "id": "3723e8c5-4feb-4976-9f42-b6e56d7b94de",
   "metadata": {},
   "outputs": [
    {
     "name": "stdout",
     "output_type": "stream",
     "text": [
      "**Grid**: \n",
      "ooxooxooooo\n",
      "xoooooooooo\n",
      "oooooooooox\n",
      "ooooooooooo\n",
      "oooooxooooo\n",
      "soxooooooog\n",
      "**Blackbox Action**: \n",
      "[['o' 'o' 'x' '→' '←' 'x' 'o' 'o' 'o' 'o' 'o']\n",
      " ['x' '→' '→' '←' '↑' '→' '→' '→' '↓' 'o' 'o']\n",
      " ['↓' '↑' '→' '→' '→' '↑' '↓' '→' '→' '↓' 'x']\n",
      " ['↑' '→' '→' '→' '→' '→' '→' '→' '↓' '→' '↓']\n",
      " ['→' '→' '→' '→' '↓' 'x' 'o' '↓' '↓' '→' '↓']\n",
      " ['→' '↑' 'x' '→' '→' '→' '→' '→' '→' '→' 'g']]\n",
      "**Counterfactual Overrides**: \n",
      "[['o' 'o' 'x' '↓' '↓' 'x' 'o' 'o' 'o' 'o' 'o']\n",
      " ['x' '↓' 'o' '→' '→' '↓' '↓' '↓' 'o' 'o' 'o']\n",
      " ['→' '→' 'o' 'o' 'o' '→' '→' '↓' '↓' 'o' 'x']\n",
      " ['→' '↑' 'o' 'o' 'o' 'o' 'o' '↓' '→' '↓' 'o']\n",
      " ['↑' 'o' 'o' '↓' 'o' 'x' 'o' '→' '→' '↓' 'o']\n",
      " ['↑' 'o' 'x' 'o' 'o' 'o' 'o' 'o' 'o' 'o' 'g']]\n"
     ]
    },
    {
     "data": {
      "image/png": "[encoded data removed]",
      "text/plain": [
       "<Figure size 432x288 with 2 Axes>"
      ]
     },
     "metadata": {
      "needs_background": "light"
     },
     "output_type": "display_data"
    }
   ],
   "source": [
    "ax = visualise_stats(\"gridworld_cliff_07\", stats_path(\"gridworld_cliff_07\", blackbox=\"q-learning\", control_fn=\"q-learning\", reward_fn=\"counterfactual-reward-fn\", intervention_penalty=\"off\", timestamp=TIMESTAMP))\n",
    "export_figure(ax, name=\"figures/counterfactual-reward-fn_gridworld-cliff-07_intervention-penalty-off\")"
   ]
  },
  {
   "cell_type": "markdown",
   "id": "8256e91c-e833-43e0-a7c2-b940506aa374",
   "metadata": {},
   "source": [
    "**With intervention penalty**"
   ]
  },
  {
   "cell_type": "code",
   "execution_count": 28,
   "id": "14224122-ab89-4640-a214-a8bb256aef48",
   "metadata": {},
   "outputs": [
    {
     "name": "stdout",
     "output_type": "stream",
     "text": [
      "**Grid**: \n",
      "ooxooxooooo\n",
      "xoooooooooo\n",
      "oooooooooox\n",
      "ooooooooooo\n",
      "oooooxooooo\n",
      "soxooooooog\n",
      "**Blackbox Action**: \n",
      "[['o' 'o' 'x' 'o' 'o' 'x' 'o' 'o' 'o' 'o' 'o']\n",
      " ['x' 'o' 'o' 'o' 'o' 'o' 'o' 'o' 'o' 'o' 'o']\n",
      " ['o' 'o' 'o' 'o' 'o' 'o' 'o' 'o' 'o' 'o' 'x']\n",
      " ['o' 'o' 'o' 'o' 'o' 'o' 'o' 'o' 'o' 'o' 'o']\n",
      " ['→' '→' '→' '→' '↓' 'x' 'o' 'o' 'o' 'o' 'o']\n",
      " ['→' '↑' 'x' 'o' '→' '→' '→' '→' '→' '→' 'g']]\n",
      "**Counterfactual Overrides**: \n",
      "[['o' 'o' 'x' 'o' 'o' 'x' 'o' 'o' 'o' 'o' 'o']\n",
      " ['x' 'o' 'o' 'o' 'o' 'o' 'o' 'o' 'o' 'o' 'o']\n",
      " ['o' 'o' 'o' 'o' 'o' 'o' 'o' 'o' 'o' 'o' 'x']\n",
      " ['o' 'o' 'o' 'o' 'o' 'o' 'o' 'o' 'o' 'o' 'o']\n",
      " ['o' 'o' 'o' 'o' 'o' 'x' 'o' 'o' 'o' 'o' 'o']\n",
      " ['↑' 'o' 'x' 'o' 'o' 'o' 'o' 'o' 'o' 'o' 'g']]\n"
     ]
    },
    {
     "data": {
      "image/png": "[encoded data removed]",
      "text/plain": [
       "<Figure size 432x288 with 2 Axes>"
      ]
     },
     "metadata": {
      "needs_background": "light"
     },
     "output_type": "display_data"
    }
   ],
   "source": [
    "ax = visualise_stats(\"gridworld_cliff_07\", stats_path(\"gridworld_cliff_07\", blackbox=\"q-learning\", control_fn=\"q-learning\", reward_fn=\"counterfactual-reward-fn\", intervention_penalty=\"on\", timestamp=TIMESTAMP))\n",
    "export_figure(ax, name=\"figures/counterfactual-reward-fn_gridworld-cliff-07_intervention-penalty-on\")"
   ]
  }
 ],
 "metadata": {
  "kernelspec": {
   "display_name": "Python 3 (ipykernel)",
   "language": "python",
   "name": "python3"
  },
  "language_info": {
   "codemirror_mode": {
    "name": "ipython",
    "version": 3
   },
   "file_extension": ".py",
   "mimetype": "text/x-python",
   "name": "python",
   "nbconvert_exporter": "python",
   "pygments_lexer": "ipython3",
   "version": "3.8.12"
  }
 },
 "nbformat": 4,
 "nbformat_minor": 5
}
